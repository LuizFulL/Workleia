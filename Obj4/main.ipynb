{
 "cells": [
  {
   "cell_type": "code",
   "execution_count": 1,
   "metadata": {},
   "outputs": [],
   "source": [
    "import pandas as pd\n",
    "import numpy as np\n",
    "import seaborn as sns\n",
    "import matplotlib.pyplot as plt"
   ]
  },
  {
   "cell_type": "code",
   "execution_count": 31,
   "metadata": {},
   "outputs": [],
   "source": [
    "air_quality = pd.read_csv('air_quality_Nov2017.csv')\n",
    "air_quality = air_quality.rename(columns={'Air Quality': 'Air_Quality'})"
   ]
  },
  {
   "cell_type": "code",
   "execution_count": 39,
   "metadata": {},
   "outputs": [
    {
     "data": {
      "text/html": [
       "<div>\n",
       "<style scoped>\n",
       "    .dataframe tbody tr th:only-of-type {\n",
       "        vertical-align: middle;\n",
       "    }\n",
       "\n",
       "    .dataframe tbody tr th {\n",
       "        vertical-align: top;\n",
       "    }\n",
       "\n",
       "    .dataframe thead th {\n",
       "        text-align: right;\n",
       "    }\n",
       "</style>\n",
       "<table border=\"1\" class=\"dataframe\">\n",
       "  <thead>\n",
       "    <tr style=\"text-align: right;\">\n",
       "      <th></th>\n",
       "      <th>Station</th>\n",
       "      <th>Air_Quality</th>\n",
       "      <th>Generated</th>\n",
       "    </tr>\n",
       "  </thead>\n",
       "  <tbody>\n",
       "    <tr>\n",
       "      <th>0</th>\n",
       "      <td>Barcelona - Eixample</td>\n",
       "      <td>Moderate</td>\n",
       "      <td>01/11/2018 0:00</td>\n",
       "    </tr>\n",
       "    <tr>\n",
       "      <th>1</th>\n",
       "      <td>Barcelona - Eixample</td>\n",
       "      <td>Good</td>\n",
       "      <td>01/11/2018 1:00</td>\n",
       "    </tr>\n",
       "    <tr>\n",
       "      <th>2</th>\n",
       "      <td>Barcelona - Eixample</td>\n",
       "      <td>Good</td>\n",
       "      <td>01/11/2018 2:00</td>\n",
       "    </tr>\n",
       "    <tr>\n",
       "      <th>3</th>\n",
       "      <td>Barcelona - Eixample</td>\n",
       "      <td>Good</td>\n",
       "      <td>01/11/2018 3:00</td>\n",
       "    </tr>\n",
       "    <tr>\n",
       "      <th>4</th>\n",
       "      <td>Barcelona - Eixample</td>\n",
       "      <td>Good</td>\n",
       "      <td>01/11/2018 4:00</td>\n",
       "    </tr>\n",
       "    <tr>\n",
       "      <th>...</th>\n",
       "      <td>...</td>\n",
       "      <td>...</td>\n",
       "      <td>...</td>\n",
       "    </tr>\n",
       "    <tr>\n",
       "      <th>162</th>\n",
       "      <td>Barcelona - Eixample</td>\n",
       "      <td>Good</td>\n",
       "      <td>07/11/2018 19:00</td>\n",
       "    </tr>\n",
       "    <tr>\n",
       "      <th>163</th>\n",
       "      <td>Barcelona - Eixample</td>\n",
       "      <td>Good</td>\n",
       "      <td>07/11/2018 20:00</td>\n",
       "    </tr>\n",
       "    <tr>\n",
       "      <th>164</th>\n",
       "      <td>Barcelona - Eixample</td>\n",
       "      <td>Good</td>\n",
       "      <td>07/11/2018 21:00</td>\n",
       "    </tr>\n",
       "    <tr>\n",
       "      <th>165</th>\n",
       "      <td>Barcelona - Eixample</td>\n",
       "      <td>Good</td>\n",
       "      <td>07/11/2018 22:00</td>\n",
       "    </tr>\n",
       "    <tr>\n",
       "      <th>166</th>\n",
       "      <td>Barcelona - Eixample</td>\n",
       "      <td>Good</td>\n",
       "      <td>07/11/2018 23:00</td>\n",
       "    </tr>\n",
       "  </tbody>\n",
       "</table>\n",
       "<p>167 rows × 3 columns</p>\n",
       "</div>"
      ],
      "text/plain": [
       "                  Station Air_Quality         Generated\n",
       "0    Barcelona - Eixample    Moderate   01/11/2018 0:00\n",
       "1    Barcelona - Eixample        Good   01/11/2018 1:00\n",
       "2    Barcelona - Eixample        Good   01/11/2018 2:00\n",
       "3    Barcelona - Eixample        Good   01/11/2018 3:00\n",
       "4    Barcelona - Eixample        Good   01/11/2018 4:00\n",
       "..                    ...         ...               ...\n",
       "162  Barcelona - Eixample        Good  07/11/2018 19:00\n",
       "163  Barcelona - Eixample        Good  07/11/2018 20:00\n",
       "164  Barcelona - Eixample        Good  07/11/2018 21:00\n",
       "165  Barcelona - Eixample        Good  07/11/2018 22:00\n",
       "166  Barcelona - Eixample        Good  07/11/2018 23:00\n",
       "\n",
       "[167 rows x 3 columns]"
      ]
     },
     "execution_count": 39,
     "metadata": {},
     "output_type": "execute_result"
    }
   ],
   "source": [
    "air_quality = air_quality.query('Station==\"Barcelona - Eixample\"')\n",
    "air_quality = air_quality[['Station','Air_Quality', 'Generated' ]]\n",
    "air_quality = air_quality.iloc[0:167].reset_index().drop(['index'], axis='columns')\n",
    "air_quality"
   ]
  },
  {
   "cell_type": "code",
   "execution_count": 40,
   "metadata": {},
   "outputs": [
    {
     "data": {
      "text/html": [
       "<div>\n",
       "<style scoped>\n",
       "    .dataframe tbody tr th:only-of-type {\n",
       "        vertical-align: middle;\n",
       "    }\n",
       "\n",
       "    .dataframe tbody tr th {\n",
       "        vertical-align: top;\n",
       "    }\n",
       "\n",
       "    .dataframe thead th {\n",
       "        text-align: right;\n",
       "    }\n",
       "</style>\n",
       "<table border=\"1\" class=\"dataframe\">\n",
       "  <thead>\n",
       "    <tr style=\"text-align: right;\">\n",
       "      <th></th>\n",
       "      <th>Station</th>\n",
       "      <th>Air_Quality</th>\n",
       "      <th>Generated</th>\n",
       "    </tr>\n",
       "  </thead>\n",
       "  <tbody>\n",
       "    <tr>\n",
       "      <th>0</th>\n",
       "      <td>Barcelona - Eixample</td>\n",
       "      <td>Moderate</td>\n",
       "      <td>01/11/2018 0:00</td>\n",
       "    </tr>\n",
       "    <tr>\n",
       "      <th>45</th>\n",
       "      <td>Barcelona - Eixample</td>\n",
       "      <td>Moderate</td>\n",
       "      <td>02/11/2018 21:00</td>\n",
       "    </tr>\n",
       "    <tr>\n",
       "      <th>93</th>\n",
       "      <td>Barcelona - Eixample</td>\n",
       "      <td>Moderate</td>\n",
       "      <td>04/11/2018 21:00</td>\n",
       "    </tr>\n",
       "    <tr>\n",
       "      <th>106</th>\n",
       "      <td>Barcelona - Eixample</td>\n",
       "      <td>Moderate</td>\n",
       "      <td>05/11/2018 11:00</td>\n",
       "    </tr>\n",
       "    <tr>\n",
       "      <th>152</th>\n",
       "      <td>Barcelona - Eixample</td>\n",
       "      <td>Moderate</td>\n",
       "      <td>07/11/2018 9:00</td>\n",
       "    </tr>\n",
       "    <tr>\n",
       "      <th>153</th>\n",
       "      <td>Barcelona - Eixample</td>\n",
       "      <td>Moderate</td>\n",
       "      <td>07/11/2018 10:00</td>\n",
       "    </tr>\n",
       "    <tr>\n",
       "      <th>154</th>\n",
       "      <td>Barcelona - Eixample</td>\n",
       "      <td>Moderate</td>\n",
       "      <td>07/11/2018 11:00</td>\n",
       "    </tr>\n",
       "  </tbody>\n",
       "</table>\n",
       "</div>"
      ],
      "text/plain": [
       "                  Station Air_Quality         Generated\n",
       "0    Barcelona - Eixample    Moderate   01/11/2018 0:00\n",
       "45   Barcelona - Eixample    Moderate  02/11/2018 21:00\n",
       "93   Barcelona - Eixample    Moderate  04/11/2018 21:00\n",
       "106  Barcelona - Eixample    Moderate  05/11/2018 11:00\n",
       "152  Barcelona - Eixample    Moderate   07/11/2018 9:00\n",
       "153  Barcelona - Eixample    Moderate  07/11/2018 10:00\n",
       "154  Barcelona - Eixample    Moderate  07/11/2018 11:00"
      ]
     },
     "execution_count": 40,
     "metadata": {},
     "output_type": "execute_result"
    }
   ],
   "source": [
    "air_moderate = air_quality.query('Air_Quality == \"Moderate\"')\n",
    "air_moderate"
   ]
  },
  {
   "cell_type": "code",
   "execution_count": 37,
   "metadata": {},
   "outputs": [
    {
     "data": {
      "image/png": "[encoded data removed]",
      "text/plain": [
       "<Figure size 432x288 with 1 Axes>"
      ]
     },
     "metadata": {
      "needs_background": "light"
     },
     "output_type": "display_data"
    }
   ],
   "source": [
    "Chart = sns.lineplot(data=air_quality, x='Generated', y='Air_Quality')"
   ]
  }
 ],
 "metadata": {
  "kernelspec": {
   "display_name": "Python 3",
   "language": "python",
   "name": "python3"
  },
  "language_info": {
   "codemirror_mode": {
    "name": "ipython",
    "version": 3
   },
   "file_extension": ".py",
   "mimetype": "text/x-python",
   "name": "python",
   "nbconvert_exporter": "python",
   "pygments_lexer": "ipython3",
   "version": "3.8.5"
  }
 },
 "nbformat": 4,
 "nbformat_minor": 4
}
