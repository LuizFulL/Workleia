{
 "cells": [
  {
   "cell_type": "markdown",
   "metadata": {},
   "source": [
    "# Rode a linha abaixo para instalar todas as libs necessárias para o trabalho, sendo elas:\n",
    "Numpy\n",
    "Pandas\n",
    "Seaborn\n",
    "Matplotlib\n",
    "Folium"
   ]
  },
  {
   "cell_type": "code",
   "execution_count": 1,
   "metadata": {},
   "outputs": [
    {
     "name": "stdout",
     "output_type": "stream",
     "text": [
      "Requirement already satisfied: numpy==1.19.2 in c:\\users\\felipe\\anaconda3\\lib\\site-packages (from -r requirements.txt (line 1)) (1.19.2)\n",
      "Requirement already satisfied: pandas==1.1.3 in c:\\users\\felipe\\anaconda3\\lib\\site-packages (from -r requirements.txt (line 2)) (1.1.3)\n",
      "Requirement already satisfied: seaborn==0.11.0 in c:\\users\\felipe\\anaconda3\\lib\\site-packages (from -r requirements.txt (line 3)) (0.11.0)\n",
      "Requirement already satisfied: matplotlib==3.3.2 in c:\\users\\felipe\\anaconda3\\lib\\site-packages (from -r requirements.txt (line 4)) (3.3.2)\n",
      "Requirement already satisfied: folium==0.12.1 in c:\\users\\felipe\\anaconda3\\lib\\site-packages (from -r requirements.txt (line 5)) (0.12.1)\n",
      "Requirement already satisfied: python-dateutil>=2.7.3 in c:\\users\\felipe\\anaconda3\\lib\\site-packages (from pandas==1.1.3->-r requirements.txt (line 2)) (2.8.1)\n",
      "Requirement already satisfied: pytz>=2017.2 in c:\\users\\felipe\\anaconda3\\lib\\site-packages (from pandas==1.1.3->-r requirements.txt (line 2)) (2020.1)\n",
      "Requirement already satisfied: scipy>=1.0 in c:\\users\\felipe\\anaconda3\\lib\\site-packages (from seaborn==0.11.0->-r requirements.txt (line 3)) (1.5.2)\n",
      "Requirement already satisfied: cycler>=0.10 in c:\\users\\felipe\\anaconda3\\lib\\site-packages (from matplotlib==3.3.2->-r requirements.txt (line 4)) (0.10.0)\n",
      "Requirement already satisfied: kiwisolver>=1.0.1 in c:\\users\\felipe\\anaconda3\\lib\\site-packages (from matplotlib==3.3.2->-r requirements.txt (line 4)) (1.3.0)\n",
      "Requirement already satisfied: pillow>=6.2.0 in c:\\users\\felipe\\anaconda3\\lib\\site-packages (from matplotlib==3.3.2->-r requirements.txt (line 4)) (8.0.1)\n",
      "Requirement already satisfied: certifi>=2020.06.20 in c:\\users\\felipe\\anaconda3\\lib\\site-packages (from matplotlib==3.3.2->-r requirements.txt (line 4)) (2020.6.20)\n",
      "Requirement already satisfied: pyparsing!=2.0.4,!=2.1.2,!=2.1.6,>=2.0.3 in c:\\users\\felipe\\anaconda3\\lib\\site-packages (from matplotlib==3.3.2->-r requirements.txt (line 4)) (2.4.7)\n",
      "Requirement already satisfied: jinja2>=2.9 in c:\\users\\felipe\\anaconda3\\lib\\site-packages (from folium==0.12.1->-r requirements.txt (line 5)) (2.11.2)\n",
      "Requirement already satisfied: requests in c:\\users\\felipe\\anaconda3\\lib\\site-packages (from folium==0.12.1->-r requirements.txt (line 5)) (2.24.0)\n",
      "Requirement already satisfied: branca>=0.3.0 in c:\\users\\felipe\\anaconda3\\lib\\site-packages (from folium==0.12.1->-r requirements.txt (line 5)) (0.4.2)\n",
      "Requirement already satisfied: six>=1.5 in c:\\users\\felipe\\anaconda3\\lib\\site-packages (from python-dateutil>=2.7.3->pandas==1.1.3->-r requirements.txt (line 2)) (1.15.0)\n",
      "Requirement already satisfied: MarkupSafe>=0.23 in c:\\users\\felipe\\anaconda3\\lib\\site-packages (from jinja2>=2.9->folium==0.12.1->-r requirements.txt (line 5)) (1.1.1)\n",
      "Requirement already satisfied: idna<3,>=2.5 in c:\\users\\felipe\\anaconda3\\lib\\site-packages (from requests->folium==0.12.1->-r requirements.txt (line 5)) (2.10)\n",
      "Requirement already satisfied: chardet<4,>=3.0.2 in c:\\users\\felipe\\anaconda3\\lib\\site-packages (from requests->folium==0.12.1->-r requirements.txt (line 5)) (3.0.4)\n",
      "Requirement already satisfied: urllib3!=1.25.0,!=1.25.1,<1.26,>=1.21.1 in c:\\users\\felipe\\anaconda3\\lib\\site-packages (from requests->folium==0.12.1->-r requirements.txt (line 5)) (1.25.11)\n",
      "Note: you may need to restart the kernel to use updated packages.\n"
     ]
    }
   ],
   "source": [
    "pip install -r requirements.txt"
   ]
  },
  {
   "cell_type": "code",
   "execution_count": 2,
   "metadata": {},
   "outputs": [
    {
     "name": "stdout",
     "output_type": "stream",
     "text": [
      "Requirement already satisfied: nbconvert in c:\\users\\felipe\\anaconda3\\lib\\site-packages (6.0.7)Note: you may need to restart the kernel to use updated packages.\n",
      "Requirement already satisfied: testpath in c:\\users\\felipe\\anaconda3\\lib\\site-packages (from nbconvert) (0.4.4)\n",
      "Requirement already satisfied: bleach in c:\\users\\felipe\\anaconda3\\lib\\site-packages (from nbconvert) (3.2.1)\n",
      "Requirement already satisfied: nbformat>=4.4 in c:\\users\\felipe\\anaconda3\\lib\\site-packages (from nbconvert) (5.0.8)\n",
      "Requirement already satisfied: defusedxml in c:\\users\\felipe\\anaconda3\\lib\\site-packages (from nbconvert) (0.6.0)\n",
      "Requirement already satisfied: traitlets>=4.2 in c:\\users\\felipe\\anaconda3\\lib\\site-packages (from nbconvert) (5.0.5)\n",
      "Requirement already satisfied: jupyter-core in c:\\users\\felipe\\anaconda3\\lib\\site-packages (from nbconvert) (4.6.3)\n",
      "Requirement already satisfied: mistune<2,>=0.8.1 in c:\\users\\felipe\\anaconda3\\lib\\site-packages (from nbconvert) (0.8.4)\n",
      "Requirement already satisfied: pygments>=2.4.1 in c:\\users\\felipe\\anaconda3\\lib\\site-packages (from nbconvert) (2.7.2)\n",
      "Requirement already satisfied: jinja2>=2.4 in c:\\users\\felipe\\anaconda3\\lib\\site-packages (from nbconvert) (2.11.2)\n",
      "Requirement already satisfied: pandocfilters>=1.4.1 in c:\\users\\felipe\\anaconda3\\lib\\site-packages (from nbconvert) (1.4.3)\n",
      "Requirement already satisfied: jupyterlab-pygments in c:\\users\\felipe\\anaconda3\\lib\\site-packages (from nbconvert) (0.1.2)\n",
      "Requirement already satisfied: nbclient<0.6.0,>=0.5.0 in c:\\users\\felipe\\anaconda3\\lib\\site-packages (from nbconvert) (0.5.1)\n",
      "Requirement already satisfied: entrypoints>=0.2.2 in c:\\users\\felipe\\anaconda3\\lib\\site-packages (from nbconvert) (0.3)\n",
      "\n",
      "Requirement already satisfied: webencodings in c:\\users\\felipe\\anaconda3\\lib\\site-packages (from bleach->nbconvert) (0.5.1)\n",
      "Requirement already satisfied: packaging in c:\\users\\felipe\\anaconda3\\lib\\site-packages (from bleach->nbconvert) (20.4)\n",
      "Requirement already satisfied: six>=1.9.0 in c:\\users\\felipe\\anaconda3\\lib\\site-packages (from bleach->nbconvert) (1.15.0)\n",
      "Requirement already satisfied: jsonschema!=2.5.0,>=2.4 in c:\\users\\felipe\\anaconda3\\lib\\site-packages (from nbformat>=4.4->nbconvert) (3.2.0)\n",
      "Requirement already satisfied: ipython-genutils in c:\\users\\felipe\\anaconda3\\lib\\site-packages (from nbformat>=4.4->nbconvert) (0.2.0)\n",
      "Requirement already satisfied: pywin32>=1.0; sys_platform == \"win32\" in c:\\users\\felipe\\anaconda3\\lib\\site-packages (from jupyter-core->nbconvert) (227)\n",
      "Requirement already satisfied: MarkupSafe>=0.23 in c:\\users\\felipe\\anaconda3\\lib\\site-packages (from jinja2>=2.4->nbconvert) (1.1.1)\n",
      "Requirement already satisfied: jupyter-client>=6.1.5 in c:\\users\\felipe\\anaconda3\\lib\\site-packages (from nbclient<0.6.0,>=0.5.0->nbconvert) (6.1.7)\n",
      "Requirement already satisfied: nest-asyncio in c:\\users\\felipe\\anaconda3\\lib\\site-packages (from nbclient<0.6.0,>=0.5.0->nbconvert) (1.4.2)\n",
      "Requirement already satisfied: async-generator in c:\\users\\felipe\\anaconda3\\lib\\site-packages (from nbclient<0.6.0,>=0.5.0->nbconvert) (1.10)\n",
      "Requirement already satisfied: pyparsing>=2.0.2 in c:\\users\\felipe\\anaconda3\\lib\\site-packages (from packaging->bleach->nbconvert) (2.4.7)\n",
      "Requirement already satisfied: attrs>=17.4.0 in c:\\users\\felipe\\anaconda3\\lib\\site-packages (from jsonschema!=2.5.0,>=2.4->nbformat>=4.4->nbconvert) (20.3.0)\n",
      "Requirement already satisfied: setuptools in c:\\users\\felipe\\anaconda3\\lib\\site-packages (from jsonschema!=2.5.0,>=2.4->nbformat>=4.4->nbconvert) (50.3.1.post20201107)\n",
      "Requirement already satisfied: pyrsistent>=0.14.0 in c:\\users\\felipe\\anaconda3\\lib\\site-packages (from jsonschema!=2.5.0,>=2.4->nbformat>=4.4->nbconvert) (0.17.3)\n",
      "Requirement already satisfied: python-dateutil>=2.1 in c:\\users\\felipe\\anaconda3\\lib\\site-packages (from jupyter-client>=6.1.5->nbclient<0.6.0,>=0.5.0->nbconvert) (2.8.1)\n",
      "Requirement already satisfied: pyzmq>=13 in c:\\users\\felipe\\anaconda3\\lib\\site-packages (from jupyter-client>=6.1.5->nbclient<0.6.0,>=0.5.0->nbconvert) (19.0.2)\n",
      "Requirement already satisfied: tornado>=4.1 in c:\\users\\felipe\\anaconda3\\lib\\site-packages (from jupyter-client>=6.1.5->nbclient<0.6.0,>=0.5.0->nbconvert) (6.0.4)\n"
     ]
    }
   ],
   "source": []
  },
  {
   "cell_type": "code",
   "execution_count": null,
   "metadata": {},
   "outputs": [],
   "source": []
  }
 ],
 "metadata": {
  "kernelspec": {
   "display_name": "Python 3",
   "language": "python",
   "name": "python3"
  },
  "language_info": {
   "codemirror_mode": {
    "name": "ipython",
    "version": 3
   },
   "file_extension": ".py",
   "mimetype": "text/x-python",
   "name": "python",
   "nbconvert_exporter": "python",
   "pygments_lexer": "ipython3",
   "version": "3.8.5"
  }
 },
 "nbformat": 4,
 "nbformat_minor": 4
}
